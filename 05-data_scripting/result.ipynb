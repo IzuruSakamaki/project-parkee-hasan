{
 "cells": [
  {
   "cell_type": "code",
   "execution_count": 1,
   "id": "527bde51",
   "metadata": {},
   "outputs": [],
   "source": [
    "import os\n",
    "\n",
    "BASE_DIR = os.getcwd()\n",
    "DATA_DIR = os.path.join(BASE_DIR, 'data')\n",
    "OUTPUT_DIR = os.path.join(BASE_DIR, 'output')"
   ]
  },
  {
   "cell_type": "code",
   "execution_count": 2,
   "id": "5d810b94",
   "metadata": {},
   "outputs": [
    {
     "name": "stdout",
     "output_type": "stream",
     "text": [
      "   transaction_id branch        date  product_id  quantity  price customer_id\n",
      "0               1      A  2023-01-01         101         2   50.0        C001\n",
      "1               2      A  2023-01-02         102         1   20.0        C002\n",
      "2               3      A  2023-01-03         103         3   15.0        C003\n",
      "3               4      A  2023-01-04         101         2   50.0        C004\n",
      "4               5      A         NaN         104         1   30.0        C005\n",
      "5               6      A  2023-01-06         105         2   25.0         NaN\n",
      "0               7      B  2023-01-01         101         1   50.0        C006\n",
      "1               8      B  2023-01-02         106         2   40.0        C007\n",
      "2               9      B  2023-01-03         107         3   25.0        C008\n",
      "3              10      B  2023-01-04         108         1   30.0        C009\n",
      "4              11      B  2023-01-05         109         2   35.0        C010\n",
      "5              12      B  2023-01-06         107         3   25.0        C011\n",
      "0              13      C  2023-01-01         110         1   60.0        C012\n",
      "1              14      C  2023-01-02         111         2   20.0        C013\n",
      "2              14      C  2023-01-03         112         1   70.0        C014\n",
      "3              15      C  2023-01-04         113         2   50.0        C015\n",
      "4              16      C  2023-01-05         114         3   30.0        C016\n",
      "5              17      C  2023-01-06         115         2   80.0        C017\n"
     ]
    }
   ],
   "source": [
    "import pandas as pd\n",
    "import glob\n",
    "\n",
    "# Gabungkan semua file CSV menjadi satu DataFrame.\n",
    "files = glob.glob(os.path.join(DATA_DIR, 'branch_*.csv'))\n",
    "dfs = [pd.read_csv(file) for file in files]\n",
    "df = pd.concat(dfs)\n",
    "\n",
    "print(df)"
   ]
  },
  {
   "cell_type": "code",
   "execution_count": 3,
   "id": "80b240b0",
   "metadata": {},
   "outputs": [
    {
     "name": "stdout",
     "output_type": "stream",
     "text": [
      "   transaction_id branch        date  product_id  quantity  price customer_id\n",
      "0               1      A  2023-01-01         101         2   50.0        C001\n",
      "1               2      A  2023-01-02         102         1   20.0        C002\n",
      "2               3      A  2023-01-03         103         3   15.0        C003\n",
      "3               4      A  2023-01-04         101         2   50.0        C004\n",
      "0               7      B  2023-01-01         101         1   50.0        C006\n",
      "1               8      B  2023-01-02         106         2   40.0        C007\n",
      "2               9      B  2023-01-03         107         3   25.0        C008\n",
      "3              10      B  2023-01-04         108         1   30.0        C009\n",
      "4              11      B  2023-01-05         109         2   35.0        C010\n",
      "5              12      B  2023-01-06         107         3   25.0        C011\n",
      "0              13      C  2023-01-01         110         1   60.0        C012\n",
      "1              14      C  2023-01-02         111         2   20.0        C013\n",
      "2              14      C  2023-01-03         112         1   70.0        C014\n",
      "3              15      C  2023-01-04         113         2   50.0        C015\n",
      "4              16      C  2023-01-05         114         3   30.0        C016\n",
      "5              17      C  2023-01-06         115         2   80.0        C017\n"
     ]
    }
   ],
   "source": [
    "# 1. Hapus baris yang memiliki nilai NaN pada kolom transaction_id, date, dan customer_id.\n",
    "df.dropna(subset=['transaction_id', 'date', 'customer_id'], inplace=True)\n",
    "\n",
    "print(df)"
   ]
  },
  {
   "cell_type": "code",
   "execution_count": 4,
   "id": "497b696f",
   "metadata": {},
   "outputs": [
    {
     "name": "stdout",
     "output_type": "stream",
     "text": [
      "transaction_id             int64\n",
      "branch                    object\n",
      "date              datetime64[ns]\n",
      "product_id                 int64\n",
      "quantity                   int64\n",
      "price                    float64\n",
      "customer_id               object\n",
      "dtype: object\n"
     ]
    }
   ],
   "source": [
    "# 2. Ubah format kolom date menjadi tipe datetime.\n",
    "df['date'] = pd.to_datetime(df['date'], errors='coerce')\n",
    "\n",
    "print(df.dtypes)"
   ]
  },
  {
   "cell_type": "code",
   "execution_count": 5,
   "id": "9148eaa2",
   "metadata": {},
   "outputs": [
    {
     "name": "stdout",
     "output_type": "stream",
     "text": [
      "   transaction_id branch       date  product_id  quantity  price customer_id\n",
      "0               1      A 2023-01-01         101         2   50.0        C001\n",
      "0               7      B 2023-01-01         101         1   50.0        C006\n",
      "0              13      C 2023-01-01         110         1   60.0        C012\n",
      "1               2      A 2023-01-02         102         1   20.0        C002\n",
      "1               8      B 2023-01-02         106         2   40.0        C007\n",
      "2               3      A 2023-01-03         103         3   15.0        C003\n",
      "2               9      B 2023-01-03         107         3   25.0        C008\n",
      "2              14      C 2023-01-03         112         1   70.0        C014\n",
      "3               4      A 2023-01-04         101         2   50.0        C004\n",
      "3              10      B 2023-01-04         108         1   30.0        C009\n",
      "3              15      C 2023-01-04         113         2   50.0        C015\n",
      "4              11      B 2023-01-05         109         2   35.0        C010\n",
      "4              16      C 2023-01-05         114         3   30.0        C016\n",
      "5              12      B 2023-01-06         107         3   25.0        C011\n",
      "5              17      C 2023-01-06         115         2   80.0        C017\n"
     ]
    }
   ],
   "source": [
    "# 3. Hilangkan duplikat berdasarkan transaction_id, pilih data berdasarkan date terbaru.\n",
    "df = df.sort_values('date').drop_duplicates('transaction_id', keep='last')\n",
    "\n",
    "print(df)"
   ]
  },
  {
   "cell_type": "code",
   "execution_count": 6,
   "id": "711e17de",
   "metadata": {},
   "outputs": [
    {
     "name": "stdout",
     "output_type": "stream",
     "text": [
      "  branch  total\n",
      "0      A  265.0\n",
      "1      B  380.0\n",
      "2      C  480.0\n"
     ]
    }
   ],
   "source": [
    "# 4. Hitung total penjualan per cabang\n",
    "df['total'] = df['quantity'] * df['price']\n",
    "total_sales_per_branch = df.groupby('branch')['total'].sum().reset_index()\n",
    "\n",
    "print(total_sales_per_branch)"
   ]
  },
  {
   "cell_type": "code",
   "execution_count": 7,
   "id": "552d8001",
   "metadata": {},
   "outputs": [],
   "source": [
    "# Simpan hasilnya ke file baru total_sales_per_branch.csv dengan kolom branch dan total.\n",
    "os.makedirs(OUTPUT_DIR, exist_ok=True)\n",
    "output_file = os.path.join(OUTPUT_DIR, 'total_sales_per_branch.csv')\n",
    "total_sales_per_branch.to_csv(output_file, index=False)"
   ]
  }
 ],
 "metadata": {
  "kernelspec": {
   "display_name": "env",
   "language": "python",
   "name": "python3"
  },
  "language_info": {
   "codemirror_mode": {
    "name": "ipython",
    "version": 3
   },
   "file_extension": ".py",
   "mimetype": "text/x-python",
   "name": "python",
   "nbconvert_exporter": "python",
   "pygments_lexer": "ipython3",
   "version": "3.13.1"
  }
 },
 "nbformat": 4,
 "nbformat_minor": 5
}
